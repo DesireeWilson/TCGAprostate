{
 "metadata": {
  "name": "filemergingscript3"
 }, 
 "nbformat": 2, 
 "worksheets": [
  {
   "cells": [
    {
     "cell_type": "code", 
     "collapsed": false, 
     "input": [
      "\"\"\"Code begins here:\"\"\"", 
      "", 
      "followuppath = '/home/ayeka/Desktop/BladderCancer/normalized2.csv'", 
      "patientpath = '/home/ayeka/Desktop/BladderCancer/replacement.csv'", 
      "", 
      "followupfile = open(followuppath,'r')", 
      "patientfile= open(patientpath,'r')", 
      "", 
      "followup = followupfile.readlines()", 
      "patient = patientfile.readlines()", 
      "", 
      "print followup[:3]", 
      "print patient[:3]", 
      "", 
      "newfollowup = [x.lower() for x in followup]", 
      "newpatient = [x.lower() for x in patient]", 
      "", 
      "print newfollowup[:3]", 
      "print newpatient[:3]", 
      "", 
      "for i in range(len(newfollowup)):", 
      "    newfollowup[i] = newfollowup[i].strip()", 
      "for i in range(len(newpatient)):", 
      "    newpatient[i] = newpatient[i].strip()", 
      "", 
      "print newfollowup[:3]", 
      "print newpatient[:3]", 
      "    ", 
      "\"\"\"for i in range(len(followup)):", 
      "    followup[i] = followup[i].split('\\t')\"\"\"", 
      "for i in range(len(newpatient)):", 
      "    newpatient[i] = newpatient[i].split('\\t')", 
      "    ", 
      "print newfollowup[:3]", 
      "print newpatient[:3]", 
      "", 
      "", 
      "\"\"\"dfollowup = dict()\"\"\"", 
      "dnewpatient = dict()", 
      "", 
      "\"\"\"for i in range(len(followup)):", 
      "    dfollowup[followup[i][0]] = followup[i][1:]\"\"\"", 
      "", 
      "for i in range(len(newpatient)):", 
      "    dnewpatient[newpatient[i][0]] = newpatient[i][1:]", 
      "    ", 
      "\"\"\"print dfollowup['unc_sample_barcode'] \"\"\"", 
      "print dnewpatient['bcr_aliquot_uuid']", 
      "", 
      "f = open('/home/ayeka/Desktop/BladderCancer/merged2.txt', 'w')", 
      "", 
      "for i in newfollowup:", 
      "    if i in dnewpatient.keys():", 
      "        more1 = '' ", 
      "        \"\"\"more2 = '' \"\"\"", 
      "        for n in range(len(dnewpatient[i])):", 
      "            more1 = more1 + ',' + dnewpatient[i][n]", 
      "        \"\"\"for n in range(len(dfollowup[i])):", 
      "            more2 = more2 + ',' + dfollowup[i][n]\"\"\"", 
      "        info = i + ',' + more1 + \"\"\" ',' + more2 +\"\"\" '\\n'", 
      "        f.write(info)", 
      "    else:", 
      "        print i", 
      "f.close()"
     ], 
     "language": "python", 
     "outputs": [
      {
       "output_type": "stream", 
       "stream": "stdout", 
       "text": [
        "['unc_sample_barcode\\n', '01a7643f-d7be-40e8-bdc1-562d825e8ba8\\n', '024bc00e-0419-4dc6-8df4-ad3af476314d\\n']", 
        "['bcr_aliquot_uuid\\tbcr_sample_barcode\\n', '7c09cff3-3162-4952-93ad-8a7d89f07266\\tTCGA-BL-A13I-01A\\n', '82ad2c9f-1f79-4b79-beca-46beadd4643f\\tTCGA-BL-A13I-01A\\n']", 
        "['unc_sample_barcode\\n', '01a7643f-d7be-40e8-bdc1-562d825e8ba8\\n', '024bc00e-0419-4dc6-8df4-ad3af476314d\\n']", 
        "['bcr_aliquot_uuid\\tbcr_sample_barcode\\n', '7c09cff3-3162-4952-93ad-8a7d89f07266\\ttcga-bl-a13i-01a\\n', '82ad2c9f-1f79-4b79-beca-46beadd4643f\\ttcga-bl-a13i-01a\\n']", 
        "['unc_sample_barcode', '01a7643f-d7be-40e8-bdc1-562d825e8ba8', '024bc00e-0419-4dc6-8df4-ad3af476314d']", 
        "['bcr_aliquot_uuid\\tbcr_sample_barcode', '7c09cff3-3162-4952-93ad-8a7d89f07266\\ttcga-bl-a13i-01a', '82ad2c9f-1f79-4b79-beca-46beadd4643f\\ttcga-bl-a13i-01a']", 
        "['unc_sample_barcode', '01a7643f-d7be-40e8-bdc1-562d825e8ba8', '024bc00e-0419-4dc6-8df4-ad3af476314d']", 
        "[['bcr_aliquot_uuid', 'bcr_sample_barcode'], ['7c09cff3-3162-4952-93ad-8a7d89f07266', 'tcga-bl-a13i-01a'], ['82ad2c9f-1f79-4b79-beca-46beadd4643f', 'tcga-bl-a13i-01a']]", 
        "['bcr_sample_barcode']", 
        "unc_sample_barcode"
       ]
      }
     ], 
     "prompt_number": 19
    }, 
    {
     "cell_type": "code", 
     "collapsed": false, 
     "input": [
      ""
     ], 
     "language": "python", 
     "outputs": [
      {
       "ename": "AttributeError", 
       "evalue": "'list' object has no attribute 'lower'", 
       "output_type": "pyerr", 
       "traceback": [
        "\u001b[0;31m---------------------------------------------------------------------------\u001b[0m\n\u001b[0;31mAttributeError\u001b[0m                            Traceback (most recent call last)", 
        "\u001b[0;32m/home/ayeka/Desktop/BladderCancer/<ipython-input-13-e587865ee714>\u001b[0m in \u001b[0;36m<module>\u001b[0;34m()\u001b[0m\n\u001b[0;32m----> 1\u001b[0;31m \u001b[0;32mprint\u001b[0m \u001b[0mfollowup\u001b[0m\u001b[0;34m.\u001b[0m\u001b[0mlower\u001b[0m\u001b[0;34m(\u001b[0m\u001b[0;34m)\u001b[0m\u001b[0;34m[\u001b[0m\u001b[0;34m:\u001b[0m\u001b[0;36m3\u001b[0m\u001b[0;34m]\u001b[0m\u001b[0;34m\u001b[0m\u001b[0m\n\u001b[0m\u001b[1;32m      2\u001b[0m \u001b[0;32mprint\u001b[0m \u001b[0mpatient\u001b[0m\u001b[0;34m.\u001b[0m\u001b[0mlower\u001b[0m\u001b[0;34m(\u001b[0m\u001b[0;34m)\u001b[0m\u001b[0;34m[\u001b[0m\u001b[0;34m:\u001b[0m\u001b[0;36m3\u001b[0m\u001b[0;34m]\u001b[0m\u001b[0;34m\u001b[0m\u001b[0m\n", 
        "\u001b[0;31mAttributeError\u001b[0m: 'list' object has no attribute 'lower'"
       ]
      }
     ], 
     "prompt_number": 13
    }, 
    {
     "cell_type": "code", 
     "collapsed": true, 
     "input": [], 
     "language": "python", 
     "outputs": []
    }
   ]
  }
 ]
}